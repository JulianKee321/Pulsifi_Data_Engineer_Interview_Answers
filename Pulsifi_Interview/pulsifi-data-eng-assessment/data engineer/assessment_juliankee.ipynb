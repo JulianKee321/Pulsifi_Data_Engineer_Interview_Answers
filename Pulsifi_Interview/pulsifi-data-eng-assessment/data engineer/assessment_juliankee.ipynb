{
 "cells": [
  {
   "cell_type": "code",
   "execution_count": 1,
   "id": "73919afc",
   "metadata": {},
   "outputs": [],
   "source": [
    "# You can use any python libraries as required"
   ]
  },
  {
   "cell_type": "markdown",
   "id": "04ef3c61",
   "metadata": {},
   "source": [
    "# Question 1"
   ]
  },
  {
   "cell_type": "code",
   "execution_count": 2,
   "id": "923f952c",
   "metadata": {},
   "outputs": [],
   "source": [
    "# Given that I have a dictionary of orders on what to buy\n",
    "\n",
    "orders = {\"apple\": 5, \"banana\": 2, \"pear\": 4}\n",
    "\n",
    "# This is the price of every item in a fruit shop\n",
    "\n",
    "fruit_shop = {\"apple\": 1, \"banana\": 2, \"pear\": 3}"
   ]
  },
  {
   "cell_type": "markdown",
   "id": "757b899b",
   "metadata": {},
   "source": [
    "Write a One-Liner to calculate the total amount I need to pay\n",
    "\n",
    "expected_output: `21`"
   ]
  },
  {
   "cell_type": "code",
   "execution_count": 3,
   "id": "1741773f",
   "metadata": {},
   "outputs": [
    {
     "data": {
      "text/plain": [
       "21"
      ]
     },
     "execution_count": 3,
     "metadata": {},
     "output_type": "execute_result"
    }
   ],
   "source": [
    "# Answer for Question 1 here:\n",
    "\n",
    "sum(orders[item]*fruit_shop[item] for item in orders)"
   ]
  },
  {
   "cell_type": "markdown",
   "id": "a91f1113",
   "metadata": {},
   "source": [
    "# Question 2"
   ]
  },
  {
   "cell_type": "markdown",
   "id": "5f6ab81a",
   "metadata": {},
   "source": [
    "Here is one example of code snippet. Any suggestion to improve it?\n",
    "\n",
    "```\n",
    "animals = ['dog', 'cat', 'cat', 'cat', 'dog', 'dog', 'mouse', 'mouse', 'dog']\n",
    "\n",
    "def validate(count):\n",
    "    if bool(counts) == True:\n",
    "        return True\n",
    "    else:\n",
    "        return False\n",
    "\n",
    "def count_object(animals):\n",
    "    counts = {}\n",
    "    for a in animals:\n",
    "        if a not in counts:\n",
    "            counts[a] = 0 \n",
    "        counts[a] += 1\n",
    "    \n",
    "    return counts\n",
    "\n",
    "counts = count_object(animals)  #{'dog': 4, 'cat': 3, 'mouse': 2}\n",
    "validate(counts)  #True\n",
    "```"
   ]
  },
  {
   "cell_type": "code",
   "execution_count": 4,
   "id": "509fe61a",
   "metadata": {},
   "outputs": [
    {
     "data": {
      "text/plain": [
       "True"
      ]
     },
     "execution_count": 4,
     "metadata": {},
     "output_type": "execute_result"
    }
   ],
   "source": [
    "import pandas as pd\n",
    "import pandasql as ps\n",
    "\n",
    "animals = ['dog', 'cat', 'cat', 'cat', 'dog', 'dog', 'mouse', 'mouse', 'dog']\n",
    "compare = ['cat', 'dog', 'cat', 'dog', 'cat', 'mouse', 'dog','dog','mouse']\n",
    "\n",
    "def count_object(self):\n",
    "    df = pd.DataFrame({'animals':(self)})\n",
    "    df = ps.sqldf(\"select animals,count(*) as count from df group by animals order by animals\")\n",
    "    return df\n",
    "\n",
    "original_data = count_object(animals)\n",
    "validation_data = count_object(compare)\n",
    "\n",
    "def validate(original_data,validation_data):\n",
    "    if original_data.equals(validation_data) == True:\n",
    "        return True\n",
    "    else:\n",
    "        return False\n",
    "\n",
    "\n",
    "validate(original_data,validation_data)\n",
    "\n",
    "\n",
    "#In the orignal code snippet, the validation step logic does not make sense. \n",
    "#The bool() function will always return True unless the object is empty, false, 0 or None.\n",
    "#The function does not validate the data against a valid/comparison dataset. \n",
    "\n",
    "#The new function validates the contents of the original dataset, animals against a test dataset, compare.\n",
    "#If the animals list is the same as compare list (regardless of order), the output is True. \n",
    "\n",
    "\n"
   ]
  },
  {
   "cell_type": "markdown",
   "id": "6303d4cd",
   "metadata": {},
   "source": [
    "# Question 3"
   ]
  },
  {
   "cell_type": "markdown",
   "id": "bd931b60",
   "metadata": {},
   "source": [
    "#### Given a list of dictionary"
   ]
  },
  {
   "cell_type": "code",
   "execution_count": 5,
   "id": "724e790e",
   "metadata": {},
   "outputs": [],
   "source": [
    "data = [\n",
    "    {\"id\": 4526, \"source\": 1, \"status\": 2, \"priority\": 1, \"subject\": \"Re: Company A - Application Successfully Submitted\"},\n",
    "    {\"id\": 4527, \"source\": 9, \"status\": 2, \"priority\": 4, \"subject\": \"Assessment is not working\"},\n",
    "    {\"id\": 4528, \"source\": 2, \"status\": 4, \"priority\": 1, \"subject\": \"Network disconnect\"},\n",
    "    {\"id\": 4529, \"source\": 1, \"status\": 3, \"priority\": 3, \"subject\": \"Company B - Login failure\"},\n",
    "]"
   ]
  },
  {
   "cell_type": "markdown",
   "id": "e0144224",
   "metadata": {},
   "source": [
    "and lookups\n",
    "\n",
    "**source**\n",
    "- 1: email\n",
    "- 2: portal\n",
    "- 3: phone\n",
    "- 7: chat\n",
    "- 8: mobile\n",
    "- 9: feedback_widget\n",
    "\n",
    "**status**\n",
    "- 2: open\n",
    "- 3: pending\n",
    "- 4: resolved\n",
    "- 5: closed\n",
    "\n",
    "**priority**\n",
    "- 1: low\n",
    "- 2: medium\n",
    "- 3: high\n",
    "- 4: urgent\n",
    "\n",
    "Write a function that transform `data` into `transformed_data` as follow. Objectives of function:\n",
    "- map `source`, `status` and `priority` from integer to string\n",
    "\n",
    "expected output:\n",
    "```\n",
    "transformed_data = [\n",
    "    {\"id\": 4526, \"source\": \"Email\", \"status\": \"Open\", \"priority\": \"Low\", \"subject\": \"Re: Company A - Application Successfully Submitted\", \"source_id\": 1, \"status_id\": 2, \"priority_id\": 1},\n",
    "    {\"id\": 4527, \"source\": \"Feedback_Widget\", \"status\": \"Open\", \"priority\": \"Urgent\", \"subject\": \"Assessment is not working\", \"source_id\": 9, \"status_id\": 2, \"priority_id\": 4},\n",
    "    {\"id\": 4528, \"source\": \"Portal\", \"status\": \"Resolved\", \"priority\": \"Low\", \"subject\": \"Network disconnect\", \"source_id\": 2, \"status_id\": 4, \"priority_id\": 1},\n",
    "    {\"id\": 4529, \"source\": \"Email\", \"status\": \"Pending\", \"priority\": \"High\", \"subject\": \"Company B - Login failure\", \"source_id\": 1, \"status_id\": 3, \"priority_id\": 3},    \n",
    "]\n",
    "```"
   ]
  },
  {
   "cell_type": "code",
   "execution_count": 6,
   "id": "85811194",
   "metadata": {},
   "outputs": [
    {
     "data": {
      "text/plain": [
       "[{'id': 4526,\n",
       "  'source': 'Email',\n",
       "  'status': 'open',\n",
       "  'priority': 'low',\n",
       "  'subject': 'Re: Company A - Application Successfully Submitted'},\n",
       " {'id': 4527,\n",
       "  'source': 'Feedback_Widget',\n",
       "  'status': 'open',\n",
       "  'priority': 'urgent',\n",
       "  'subject': 'Assessment is not working'},\n",
       " {'id': 4528,\n",
       "  'source': 'Portal',\n",
       "  'status': 'resolved',\n",
       "  'priority': 'low',\n",
       "  'subject': 'Network disconnect'},\n",
       " {'id': 4529,\n",
       "  'source': 'Email',\n",
       "  'status': 'pending',\n",
       "  'priority': 'high',\n",
       "  'subject': 'Company B - Login failure'}]"
      ]
     },
     "execution_count": 6,
     "metadata": {},
     "output_type": "execute_result"
    }
   ],
   "source": [
    "# Answer Question 3 here:\n",
    "\n",
    "import pandas as pd\n",
    "\n",
    "#Create Lookup Dict\n",
    "source_values = {\n",
    "1:'Email',\n",
    "2:'Portal',\n",
    "3:'Phone',\n",
    "7:'Chat',\n",
    "8:'Mobile',\n",
    "9:'Feedback_Widget'\n",
    "}\n",
    "\n",
    "status_values = {\n",
    "2:'open',\n",
    "3:'pending',\n",
    "4:'resolved',\n",
    "5:'closed'\n",
    "}\n",
    "\n",
    "priority_values = {\n",
    "1:'low',\n",
    "2:'medium',\n",
    "3:'high',\n",
    "4:'urgent'\n",
    "}\n",
    "\n",
    "\n",
    "#Create function\n",
    "\n",
    "def lookup_function(data):\n",
    "    df = pd.DataFrame(data)\n",
    "    df['source'] = df.source.replace(source_values)\n",
    "    df['status'] = df.status.replace(status_values)\n",
    "    df['priority'] = df.priority.replace(priority_values)\n",
    "    transformed_data = list(df.T.to_dict().values())\n",
    "    return transformed_data\n",
    "\n",
    "lookup_function(data)"
   ]
  },
  {
   "cell_type": "markdown",
   "id": "ba94cf5e",
   "metadata": {},
   "source": [
    "# Question 4"
   ]
  },
  {
   "cell_type": "markdown",
   "id": "8d644e19",
   "metadata": {},
   "source": [
    "You are given a dataset (located in `dataset/20210506.csv`) by the company. \n",
    "<br>\n",
    "You are required to look into a subset of the data where company id is 5 and has a total of 6 questionnaires. \n",
    "<br>\n",
    "From there, you need to recommend to the client candidates whom have completed all assessments and have met the criteria. \n",
    "\n",
    "*Note: display the answer in the form of a dataframe with only recommended candidates*"
   ]
  },
  {
   "cell_type": "code",
   "execution_count": 7,
   "id": "51179339",
   "metadata": {},
   "outputs": [
    {
     "data": {
      "text/html": [
       "<div>\n",
       "<style scoped>\n",
       "    .dataframe tbody tr th:only-of-type {\n",
       "        vertical-align: middle;\n",
       "    }\n",
       "\n",
       "    .dataframe tbody tr th {\n",
       "        vertical-align: top;\n",
       "    }\n",
       "\n",
       "    .dataframe thead th {\n",
       "        text-align: right;\n",
       "    }\n",
       "</style>\n",
       "<table border=\"1\" class=\"dataframe\">\n",
       "  <thead>\n",
       "    <tr style=\"text-align: right;\">\n",
       "      <th></th>\n",
       "      <th>id</th>\n",
       "    </tr>\n",
       "  </thead>\n",
       "  <tbody>\n",
       "    <tr>\n",
       "      <th>0</th>\n",
       "      <td>172cd051-ce06-49a1-80dc-df5e803f8d79</td>\n",
       "    </tr>\n",
       "    <tr>\n",
       "      <th>1</th>\n",
       "      <td>108ab550-298e-427c-a4a3-e9a5983ec32c</td>\n",
       "    </tr>\n",
       "    <tr>\n",
       "      <th>2</th>\n",
       "      <td>54273e2a-924d-427d-9d50-0386a9c84ce8</td>\n",
       "    </tr>\n",
       "    <tr>\n",
       "      <th>3</th>\n",
       "      <td>9f0618b1-0b60-4149-aef2-c8cc3054b1e2</td>\n",
       "    </tr>\n",
       "    <tr>\n",
       "      <th>4</th>\n",
       "      <td>738ef2ea-8e33-4cd8-9e61-6b2168c48cc3</td>\n",
       "    </tr>\n",
       "    <tr>\n",
       "      <th>...</th>\n",
       "      <td>...</td>\n",
       "    </tr>\n",
       "    <tr>\n",
       "      <th>66</th>\n",
       "      <td>e78d82e6-b838-4073-9576-782530aaad2c</td>\n",
       "    </tr>\n",
       "    <tr>\n",
       "      <th>67</th>\n",
       "      <td>4c6684b9-1d48-41b3-bc59-38ea51c712dc</td>\n",
       "    </tr>\n",
       "    <tr>\n",
       "      <th>68</th>\n",
       "      <td>0e3dbe86-e9e8-4ecc-bd7d-cb85f9a56eba</td>\n",
       "    </tr>\n",
       "    <tr>\n",
       "      <th>69</th>\n",
       "      <td>b3080a65-6428-4cb9-964c-28d2498b9afc</td>\n",
       "    </tr>\n",
       "    <tr>\n",
       "      <th>70</th>\n",
       "      <td>0a9499fc-9a4d-433d-8b76-9b2debbddca4</td>\n",
       "    </tr>\n",
       "  </tbody>\n",
       "</table>\n",
       "<p>71 rows × 1 columns</p>\n",
       "</div>"
      ],
      "text/plain": [
       "                                      id\n",
       "0   172cd051-ce06-49a1-80dc-df5e803f8d79\n",
       "1   108ab550-298e-427c-a4a3-e9a5983ec32c\n",
       "2   54273e2a-924d-427d-9d50-0386a9c84ce8\n",
       "3   9f0618b1-0b60-4149-aef2-c8cc3054b1e2\n",
       "4   738ef2ea-8e33-4cd8-9e61-6b2168c48cc3\n",
       "..                                   ...\n",
       "66  e78d82e6-b838-4073-9576-782530aaad2c\n",
       "67  4c6684b9-1d48-41b3-bc59-38ea51c712dc\n",
       "68  0e3dbe86-e9e8-4ecc-bd7d-cb85f9a56eba\n",
       "69  b3080a65-6428-4cb9-964c-28d2498b9afc\n",
       "70  0a9499fc-9a4d-433d-8b76-9b2debbddca4\n",
       "\n",
       "[71 rows x 1 columns]"
      ]
     },
     "execution_count": 7,
     "metadata": {},
     "output_type": "execute_result"
    }
   ],
   "source": [
    "# Answer Question 4 here:\n",
    "import pandas as pd\n",
    "import pandasql as ps\n",
    "\n",
    "df = pd.read_csv(\"C:\\\\Users\\\\SUNBTC\\\\Desktop\\\\Pulsifi_Interview\\\\pulsifi-data-eng-assessment\\\\data engineer\\\\dataset\\\\20210506.csv\")\n",
    "\n",
    "\n",
    "#Condition 1 = Company ID is 5 and has a total of 6 questionaires\n",
    "condition_1 = ps.sqldf('''\n",
    "SELECT\n",
    "id\n",
    ",total_questionnaires\n",
    ",total_questionnaires_completed\n",
    ",is_met_criteria\n",
    "FROM df \n",
    "WHERE \n",
    "company_id = 5 \n",
    "AND \n",
    "total_questionnaires = 6\n",
    "''')\n",
    "\n",
    "#Condition 2 =  client candidates whom have completed all assessments and have met the criteria.\n",
    "recommended_candidates = ps.sqldf('''\n",
    "SELECT\n",
    "id\n",
    "FROM condition_1 \n",
    "WHERE  \n",
    "total_questionnaires_completed = total_questionnaires \n",
    "AND\n",
    "is_met_criteria = 1\n",
    "''')\n",
    "\n",
    "recommended_candidates\n",
    "\n"
   ]
  }
 ],
 "metadata": {
  "celltoolbar": "Raw Cell Format",
  "kernelspec": {
   "display_name": "Python 3",
   "language": "python",
   "name": "python3"
  },
  "language_info": {
   "codemirror_mode": {
    "name": "ipython",
    "version": 3
   },
   "file_extension": ".py",
   "mimetype": "text/x-python",
   "name": "python",
   "nbconvert_exporter": "python",
   "pygments_lexer": "ipython3",
   "version": "3.8.1"
  }
 },
 "nbformat": 4,
 "nbformat_minor": 5
}
